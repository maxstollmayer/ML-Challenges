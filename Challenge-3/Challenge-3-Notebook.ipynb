{
 "cells": [
  {
   "cell_type": "markdown",
   "metadata": {},
   "source": [
    "# Challenge 3 - Facial Expression Classification\n",
    "In the third and last challenge we are given 20 000 training images and labels and 10 000 test images. They are 35x35 pixel each and are of emoji faces and the labels correspond to their emotional state, which we have to predict on the test set."
   ]
  },
  {
   "cell_type": "code",
   "execution_count": 33,
   "metadata": {},
   "outputs": [
    {
     "data": {
      "image/png": "[encoded data removed]",
      "text/plain": [
       "<Figure size 864x864 with 16 Axes>"
      ]
     },
     "metadata": {},
     "output_type": "display_data"
    }
   ],
   "source": [
    "import numpy as np\n",
    "from matplotlib import pyplot as plt\n",
    "from matplotlib import colors\n",
    "\n",
    "X = np.load(\"data_train_Facial.npy\", allow_pickle = True)\n",
    "y = np.loadtxt(\"true_labels_Facial_train.csv\", delimiter = \",\")\n",
    "\n",
    "color_map = colors.ListedColormap([\"white\", \"yellow\", \"black\"])\n",
    "emotions = [\"happy\", \"sad\", \"angry\"]\n",
    "\n",
    "plt.figure(figsize = (12, 12))\n",
    "for k in range(16):\n",
    "    plt.subplot(4, 4, k+1)\n",
    "    plt.imshow(X[k], cmap = color_map)\n",
    "    plt.title(emotions[int(y[k])])\n",
    "    plt.xticks([])\n",
    "    plt.yticks([])\n",
    "plt.show()"
   ]
  },
  {
   "cell_type": "markdown",
   "metadata": {},
   "source": [
    "We will split the given training data into our own training and test sets with an 80-20% split."
   ]
  },
  {
   "cell_type": "code",
   "execution_count": 27,
   "metadata": {},
   "outputs": [],
   "source": [
    "from sklearn.model_selection import train_test_split\n",
    "X_train, X_test, y_train, y_test = train_test_split(X, y)"
   ]
  },
  {
   "cell_type": "markdown",
   "metadata": {},
   "source": [
    "### AutoKeras Image Regressor\n",
    "Since the automatic machine learning model worked really good in the last challenge, we obted for an automatic implementation of keras called autokeras. The code below tries to find the best hyperparameters of an image regressor in 100 tries with 1000 epochs for each try."
   ]
  },
  {
   "cell_type": "code",
   "execution_count": 28,
   "metadata": {},
   "outputs": [],
   "source": [
    "import autokeras as ak\n",
    "#reg = ak.ImageRegressor(project_name = \"image_regressor_training\")\n",
    "#reg.fit(X_train, y_train)\n",
    "#model = reg.export_model()\n",
    "#model.save(\"image_regressor\", save_format = \"tf\")\n",
    "\n",
    "from tensorflow.keras.models import load_model\n",
    "model = load_model(\"image_regressor\", custom_objects = ak.CUSTOM_OBJECTS)"
   ]
  },
  {
   "cell_type": "markdown",
   "metadata": {},
   "source": [
    "### Analysis\n",
    "Below you can find the trained architecture with its number of layers used, the number of neurons in each layer, optimizer, learning rate, activation functions, etc."
   ]
  },
  {
   "cell_type": "code",
   "execution_count": 29,
   "metadata": {},
   "outputs": [
    {
     "name": "stdout",
     "output_type": "stream",
     "text": [
      "Model: \"model\"\n",
      "_________________________________________________________________\n",
      "Layer (type)                 Output Shape              Param #   \n",
      "=================================================================\n",
      "input_1 (InputLayer)         [(None, 35, 35)]          0         \n",
      "_________________________________________________________________\n",
      "cast_to_float32 (CastToFloat (None, 35, 35)            0         \n",
      "_________________________________________________________________\n",
      "expand_last_dim (ExpandLastD (None, 35, 35, 1)         0         \n",
      "_________________________________________________________________\n",
      "normalization (Normalization (None, 35, 35, 1)         3         \n",
      "_________________________________________________________________\n",
      "random_flip (RandomFlip)     (None, 35, 35, 1)         0         \n",
      "_________________________________________________________________\n",
      "conv2d (Conv2D)              (None, 31, 31, 16)        416       \n",
      "_________________________________________________________________\n",
      "conv2d_1 (Conv2D)            (None, 27, 27, 256)       102656    \n",
      "_________________________________________________________________\n",
      "max_pooling2d (MaxPooling2D) (None, 6, 6, 256)         0         \n",
      "_________________________________________________________________\n",
      "conv2d_2 (Conv2D)            (None, 6, 6, 32)          204832    \n",
      "_________________________________________________________________\n",
      "conv2d_3 (Conv2D)            (None, 6, 6, 128)         102528    \n",
      "_________________________________________________________________\n",
      "max_pooling2d_1 (MaxPooling2 (None, 2, 2, 128)         0         \n",
      "_________________________________________________________________\n",
      "conv2d_4 (Conv2D)            (None, 2, 2, 512)         1638912   \n",
      "_________________________________________________________________\n",
      "conv2d_5 (Conv2D)            (None, 2, 2, 16)          204816    \n",
      "_________________________________________________________________\n",
      "max_pooling2d_2 (MaxPooling2 (None, 1, 1, 16)          0         \n",
      "_________________________________________________________________\n",
      "flatten (Flatten)            (None, 16)                0         \n",
      "_________________________________________________________________\n",
      "regression_head_1 (Dense)    (None, 1)                 17        \n",
      "=================================================================\n",
      "Total params: 2,254,180\n",
      "Trainable params: 2,254,177\n",
      "Non-trainable params: 3\n",
      "_________________________________________________________________\n"
     ]
    }
   ],
   "source": [
    "model.summary()"
   ]
  },
  {
   "cell_type": "markdown",
   "metadata": {},
   "source": [
    "Let's see how it performs on our test set. Since we trained a regressor we need to round the results to the nearest integer to get the classification."
   ]
  },
  {
   "cell_type": "code",
   "execution_count": 30,
   "metadata": {},
   "outputs": [
    {
     "name": "stdout",
     "output_type": "stream",
     "text": [
      "Image Regressor Accuracy: 1.0\n"
     ]
    }
   ],
   "source": [
    "y_predicted = model.predict(X_test).flatten()\n",
    "accuracy = np.sum(y_test == np.round(y_predicted)) / y_test.shape[0]\n",
    "print(\"Image Regressor Accuracy:\", accuracy)"
   ]
  },
  {
   "cell_type": "markdown",
   "metadata": {},
   "source": [
    "Altough the model achieves 100 % accuracy on our test set we still want to see where it is furthest from the ground truth. Since we trained a regressor instead of a classifier we can interpret the error of the prediction float to the actual expression integer as the confidence. Below the lowest confidence score and the associated face are given."
   ]
  },
  {
   "cell_type": "code",
   "execution_count": 50,
   "metadata": {},
   "outputs": [
    {
     "name": "stdout",
     "output_type": "stream",
     "text": [
      "Lowest confidence: 0.048674941062927246\n"
     ]
    },
    {
     "data": {
      "image/png": "[encoded data removed]",
      "text/plain": [
       "<Figure size 432x288 with 1 Axes>"
      ]
     },
     "metadata": {},
     "output_type": "display_data"
    }
   ],
   "source": [
    "errors = np.abs(y_predicted - y_test)\n",
    "index = np.argmax(errors)\n",
    "print(\"Lowest confidence:\", errors[index])\n",
    "plt.imshow(X_test[index], cmap = cmap)\n",
    "plt.title(emotions[int(y[index])])\n",
    "plt.xticks([])\n",
    "plt.yticks([])\n",
    "plt.show()"
   ]
  },
  {
   "cell_type": "markdown",
   "metadata": {},
   "source": [
    "### Save Prediction\n",
    "The only thing left to do is save the prediction on the given test data."
   ]
  },
  {
   "cell_type": "code",
   "execution_count": 32,
   "metadata": {},
   "outputs": [],
   "source": [
    "data = np.load(\"data_test_Facial.npy\", allow_pickle = True)\n",
    "prediction = np.round(model.predict(data).flatten())\n",
    "np.savetxt(\"ToTheMooners_prediction\", prediction, delimiter = \",\")"
   ]
  }
 ],
 "metadata": {
  "kernelspec": {
   "display_name": "Python 3",
   "language": "python",
   "name": "python3"
  },
  "language_info": {
   "codemirror_mode": {
    "name": "ipython",
    "version": 3
   },
   "file_extension": ".py",
   "mimetype": "text/x-python",
   "name": "python",
   "nbconvert_exporter": "python",
   "pygments_lexer": "ipython3",
   "version": "3.8.8"
  }
 },
 "nbformat": 4,
 "nbformat_minor": 4
}
