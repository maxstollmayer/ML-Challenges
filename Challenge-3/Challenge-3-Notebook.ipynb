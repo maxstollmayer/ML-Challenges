{
 "cells": [
  {
   "cell_type": "code",
   "execution_count": null,
   "metadata": {},
   "outputs": [
    {
     "name": "stdout",
     "output_type": "stream",
     "text": [
      "Trial 15 Complete [01h 21m 32s]\n",
      "val_loss: 0.004291153512895107\n",
      "\n",
      "Best val_loss So Far: 0.0006985507789067924\n",
      "Total elapsed time: 11h 33m 18s\n",
      "\n",
      "Search: Running Trial #16\n",
      "\n",
      "Hyperparameter    |Value             |Best Value So Far \n",
      "image_block_1/n...|False             |False             \n",
      "image_block_1/a...|True              |True              \n",
      "image_block_1/b...|resnet            |vanilla           \n",
      "image_block_1/r...|True              |None              \n",
      "image_block_1/r...|resnet50          |None              \n",
      "image_block_1/r...|True              |None              \n",
      "regression_head...|0                 |0                 \n",
      "optimizer         |adam              |adam              \n",
      "learning_rate     |0.001             |0.001             \n",
      "image_block_1/i...|0                 |0                 \n",
      "image_block_1/i...|True              |True              \n",
      "image_block_1/i...|False             |False             \n",
      "image_block_1/i...|0                 |0                 \n",
      "image_block_1/i...|0                 |0                 \n",
      "image_block_1/i...|0                 |0                 \n",
      "\n",
      "Downloading data from https://storage.googleapis.com/tensorflow/keras-applications/resnet/resnet50_weights_tf_dim_ordering_tf_kernels_notop.h5\n",
      "94773248/94765736 [==============================] - 18s 0us/step\n",
      "Epoch 1/1000\n",
      "376/376 [==============================] - 1411s 4s/step - loss: 1.8038 - mean_squared_error: 1.8038 - val_loss: 0.0859 - val_mean_squared_error: 0.0859\n",
      "Epoch 2/1000\n",
      "376/376 [==============================] - 1402s 4s/step - loss: 0.0820 - mean_squared_error: 0.0820 - val_loss: 0.0571 - val_mean_squared_error: 0.0571\n",
      "Epoch 3/1000\n",
      "376/376 [==============================] - 1241s 3s/step - loss: 0.0713 - mean_squared_error: 0.0713 - val_loss: 0.0519 - val_mean_squared_error: 0.0519\n",
      "Epoch 4/1000\n",
      "376/376 [==============================] - 1158s 3s/step - loss: 0.0824 - mean_squared_error: 0.0824 - val_loss: 0.1065 - val_mean_squared_error: 0.1065\n",
      "Epoch 5/1000\n",
      "376/376 [==============================] - 1120s 3s/step - loss: 0.1062 - mean_squared_error: 0.1062 - val_loss: 0.0653 - val_mean_squared_error: 0.0653\n",
      "Epoch 6/1000\n"
     ]
    }
   ],
   "source": [
    "import numpy as np\n",
    "import autokeras as ak\n",
    "import tensorflow as tf\n",
    "from tensorflow.keras.models import load_model\n",
    "from sklearn.model_selection import train_test_split\n",
    "\n",
    "X = np.load(\"data_train_Facial.npy\", allow_pickle = True)\n",
    "y = np.loadtxt(\"true_labels_Facial_train.csv\", delimiter = \",\")\n",
    "\n",
    "X_train, X_test, y_train, y_test = train_test_split(X, y)\n",
    "\n",
    "reg = ak.ImageRegressor()\n",
    "reg.fit(X_train, y_train)\n",
    "\n",
    "model = reg.export_model()\n",
    "try:\n",
    "    model.save(\"model_autokeras\", save_format = \"tf\")\n",
    "except Exception:\n",
    "    model.save(\"model_autokeras.h5\")\n",
    "    \n",
    "#model = load_model(\"model_autokeras\", custom_objects = ak.CUSTOM_OBJECTS)\n",
    "\n",
    "y_predicted = reg.predict(X_test, verbose = 1)\n",
    "accuracy = np.sum(y_test == y_predicted) / y_test.shape[0]\n",
    "\n",
    "print(f\"Accuracy: {accuracy}\")\n",
    "print(f\"Mean squared error: {reg.evaluate(X_test, y_test)}\")"
   ]
  },
  {
   "cell_type": "code",
   "execution_count": null,
   "metadata": {},
   "outputs": [],
   "source": []
  }
 ],
 "metadata": {
  "kernelspec": {
   "display_name": "Python 3",
   "language": "python",
   "name": "python3"
  },
  "language_info": {
   "codemirror_mode": {
    "name": "ipython",
    "version": 3
   },
   "file_extension": ".py",
   "mimetype": "text/x-python",
   "name": "python",
   "nbconvert_exporter": "python",
   "pygments_lexer": "ipython3",
   "version": "3.8.8"
  }
 },
 "nbformat": 4,
 "nbformat_minor": 4
}
