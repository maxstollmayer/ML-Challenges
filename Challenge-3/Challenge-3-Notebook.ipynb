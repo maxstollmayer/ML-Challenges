{
 "cells": [
  {
   "cell_type": "markdown",
   "metadata": {},
   "source": [
    "# Challenge 3 - Facial Expression Classification\n",
    "In the third and last challenge we are given 20 000 training images and labels and 10 000 test images. They are 35x35 pixel each and are of emoji faces and the labels correspond to their emotional state, which we have to predict on the test set."
   ]
  },
  {
   "cell_type": "code",
   "execution_count": 2,
   "metadata": {},
   "outputs": [],
   "source": [
    "import numpy as np\n",
    "X = np.load(\"data_train_Facial.npy\", allow_pickle = True)\n",
    "y = np.loadtxt(\"true_labels_Facial_train.csv\", delimiter = \",\")"
   ]
  },
  {
   "cell_type": "markdown",
   "metadata": {},
   "source": [
    "We will split the given training data into our own training and test sets with the usual 80-20% split."
   ]
  },
  {
   "cell_type": "code",
   "execution_count": 3,
   "metadata": {},
   "outputs": [],
   "source": [
    "from sklearn.model_selection import train_test_split\n",
    "X_train, X_test, y_train, y_test = train_test_split(X, y)"
   ]
  },
  {
   "cell_type": "markdown",
   "metadata": {},
   "source": [
    "### AutoKeras Image Regressor\n",
    "Since the automatic machine learning model worked really good in the last challenge, we obted for an automatic implementation of keras called autokeras. The code below tries to find the best hyperparameters of an image regressor in 100 tries with 1000 epochs for each try. This took over 40 hours!"
   ]
  },
  {
   "cell_type": "code",
   "execution_count": 6,
   "metadata": {},
   "outputs": [
    {
     "ename": "AttributeError",
     "evalue": "module 'google.protobuf.descriptor' has no attribute '_internal_create_key'",
     "output_type": "error",
     "traceback": [
      "\u001b[1;31m---------------------------------------------------------------------------\u001b[0m",
      "\u001b[1;31mAttributeError\u001b[0m                            Traceback (most recent call last)",
      "\u001b[1;32m<ipython-input-6-85d187d68977>\u001b[0m in \u001b[0;36m<module>\u001b[1;34m\u001b[0m\n\u001b[1;32m----> 1\u001b[1;33m \u001b[1;32mimport\u001b[0m \u001b[0mautokeras\u001b[0m \u001b[1;32mas\u001b[0m \u001b[0mak\u001b[0m\u001b[1;33m\u001b[0m\u001b[1;33m\u001b[0m\u001b[0m\n\u001b[0m",
      "\u001b[1;32m~\\AppData\\Roaming\\Python\\Python38\\site-packages\\autokeras\\__init__.py\u001b[0m in \u001b[0;36m<module>\u001b[1;34m\u001b[0m\n\u001b[0;32m     13\u001b[0m \u001b[1;31m# limitations under the License.\u001b[0m\u001b[1;33m\u001b[0m\u001b[1;33m\u001b[0m\u001b[1;33m\u001b[0m\u001b[0m\n\u001b[0;32m     14\u001b[0m \u001b[1;33m\u001b[0m\u001b[0m\n\u001b[1;32m---> 15\u001b[1;33m \u001b[1;32mfrom\u001b[0m \u001b[0mautokeras\u001b[0m\u001b[1;33m.\u001b[0m\u001b[0mauto_model\u001b[0m \u001b[1;32mimport\u001b[0m \u001b[0mAutoModel\u001b[0m\u001b[1;33m\u001b[0m\u001b[1;33m\u001b[0m\u001b[0m\n\u001b[0m\u001b[0;32m     16\u001b[0m \u001b[1;32mfrom\u001b[0m \u001b[0mautokeras\u001b[0m\u001b[1;33m.\u001b[0m\u001b[0mblocks\u001b[0m \u001b[1;32mimport\u001b[0m \u001b[0mBertBlock\u001b[0m\u001b[1;33m\u001b[0m\u001b[1;33m\u001b[0m\u001b[0m\n\u001b[0;32m     17\u001b[0m \u001b[1;32mfrom\u001b[0m \u001b[0mautokeras\u001b[0m\u001b[1;33m.\u001b[0m\u001b[0mblocks\u001b[0m \u001b[1;32mimport\u001b[0m \u001b[0mCategoricalToNumerical\u001b[0m\u001b[1;33m\u001b[0m\u001b[1;33m\u001b[0m\u001b[0m\n",
      "\u001b[1;32m~\\AppData\\Roaming\\Python\\Python38\\site-packages\\autokeras\\auto_model.py\u001b[0m in \u001b[0;36m<module>\u001b[1;34m\u001b[0m\n\u001b[0;32m     23\u001b[0m \u001b[1;32mfrom\u001b[0m \u001b[0mtensorflow\u001b[0m\u001b[1;33m.\u001b[0m\u001b[0mpython\u001b[0m\u001b[1;33m.\u001b[0m\u001b[0mutil\u001b[0m \u001b[1;32mimport\u001b[0m \u001b[0mnest\u001b[0m\u001b[1;33m\u001b[0m\u001b[1;33m\u001b[0m\u001b[0m\n\u001b[0;32m     24\u001b[0m \u001b[1;33m\u001b[0m\u001b[0m\n\u001b[1;32m---> 25\u001b[1;33m \u001b[1;32mfrom\u001b[0m \u001b[0mautokeras\u001b[0m \u001b[1;32mimport\u001b[0m \u001b[0mblocks\u001b[0m\u001b[1;33m\u001b[0m\u001b[1;33m\u001b[0m\u001b[0m\n\u001b[0m\u001b[0;32m     26\u001b[0m \u001b[1;32mfrom\u001b[0m \u001b[0mautokeras\u001b[0m \u001b[1;32mimport\u001b[0m \u001b[0mgraph\u001b[0m \u001b[1;32mas\u001b[0m \u001b[0mgraph_module\u001b[0m\u001b[1;33m\u001b[0m\u001b[1;33m\u001b[0m\u001b[0m\n\u001b[0;32m     27\u001b[0m \u001b[1;32mfrom\u001b[0m \u001b[0mautokeras\u001b[0m \u001b[1;32mimport\u001b[0m \u001b[0mpipeline\u001b[0m\u001b[1;33m\u001b[0m\u001b[1;33m\u001b[0m\u001b[0m\n",
      "\u001b[1;32m~\\AppData\\Roaming\\Python\\Python38\\site-packages\\autokeras\\blocks\\__init__.py\u001b[0m in \u001b[0;36m<module>\u001b[1;34m\u001b[0m\n\u001b[0;32m     15\u001b[0m \u001b[1;32mimport\u001b[0m \u001b[0mtensorflow\u001b[0m \u001b[1;32mas\u001b[0m \u001b[0mtf\u001b[0m\u001b[1;33m\u001b[0m\u001b[1;33m\u001b[0m\u001b[0m\n\u001b[0;32m     16\u001b[0m \u001b[1;33m\u001b[0m\u001b[0m\n\u001b[1;32m---> 17\u001b[1;33m \u001b[1;32mfrom\u001b[0m \u001b[0mautokeras\u001b[0m\u001b[1;33m.\u001b[0m\u001b[0mblocks\u001b[0m\u001b[1;33m.\u001b[0m\u001b[0mbasic\u001b[0m \u001b[1;32mimport\u001b[0m \u001b[0mBertBlock\u001b[0m\u001b[1;33m\u001b[0m\u001b[1;33m\u001b[0m\u001b[0m\n\u001b[0m\u001b[0;32m     18\u001b[0m \u001b[1;32mfrom\u001b[0m \u001b[0mautokeras\u001b[0m\u001b[1;33m.\u001b[0m\u001b[0mblocks\u001b[0m\u001b[1;33m.\u001b[0m\u001b[0mbasic\u001b[0m \u001b[1;32mimport\u001b[0m \u001b[0mConvBlock\u001b[0m\u001b[1;33m\u001b[0m\u001b[1;33m\u001b[0m\u001b[0m\n\u001b[0;32m     19\u001b[0m \u001b[1;32mfrom\u001b[0m \u001b[0mautokeras\u001b[0m\u001b[1;33m.\u001b[0m\u001b[0mblocks\u001b[0m\u001b[1;33m.\u001b[0m\u001b[0mbasic\u001b[0m \u001b[1;32mimport\u001b[0m \u001b[0mDenseBlock\u001b[0m\u001b[1;33m\u001b[0m\u001b[1;33m\u001b[0m\u001b[0m\n",
      "\u001b[1;32m~\\AppData\\Roaming\\Python\\Python38\\site-packages\\autokeras\\blocks\\basic.py\u001b[0m in \u001b[0;36m<module>\u001b[1;34m\u001b[0m\n\u001b[0;32m     17\u001b[0m \u001b[1;33m\u001b[0m\u001b[0m\n\u001b[0;32m     18\u001b[0m \u001b[1;32mimport\u001b[0m \u001b[0mtensorflow\u001b[0m \u001b[1;32mas\u001b[0m \u001b[0mtf\u001b[0m\u001b[1;33m\u001b[0m\u001b[1;33m\u001b[0m\u001b[0m\n\u001b[1;32m---> 19\u001b[1;33m \u001b[1;32mfrom\u001b[0m \u001b[0mkeras_tuner\u001b[0m\u001b[1;33m.\u001b[0m\u001b[0mengine\u001b[0m \u001b[1;32mimport\u001b[0m \u001b[0mhyperparameters\u001b[0m\u001b[1;33m\u001b[0m\u001b[1;33m\u001b[0m\u001b[0m\n\u001b[0m\u001b[0;32m     20\u001b[0m \u001b[1;32mfrom\u001b[0m \u001b[0mtensorflow\u001b[0m\u001b[1;33m.\u001b[0m\u001b[0mkeras\u001b[0m \u001b[1;32mimport\u001b[0m \u001b[0mapplications\u001b[0m\u001b[1;33m\u001b[0m\u001b[1;33m\u001b[0m\u001b[0m\n\u001b[0;32m     21\u001b[0m \u001b[1;32mfrom\u001b[0m \u001b[0mtensorflow\u001b[0m\u001b[1;33m.\u001b[0m\u001b[0mkeras\u001b[0m \u001b[1;32mimport\u001b[0m \u001b[0mlayers\u001b[0m\u001b[1;33m\u001b[0m\u001b[1;33m\u001b[0m\u001b[0m\n",
      "\u001b[1;32m~\\AppData\\Roaming\\Python\\Python38\\site-packages\\keras_tuner\\__init__.py\u001b[0m in \u001b[0;36m<module>\u001b[1;34m\u001b[0m\n\u001b[0;32m     18\u001b[0m \u001b[1;33m\u001b[0m\u001b[0m\n\u001b[0;32m     19\u001b[0m \u001b[1;32mfrom\u001b[0m \u001b[1;33m.\u001b[0m \u001b[1;32mimport\u001b[0m \u001b[0mapplications\u001b[0m\u001b[1;33m\u001b[0m\u001b[1;33m\u001b[0m\u001b[0m\n\u001b[1;32m---> 20\u001b[1;33m \u001b[1;32mfrom\u001b[0m \u001b[1;33m.\u001b[0m \u001b[1;32mimport\u001b[0m \u001b[0moracles\u001b[0m\u001b[1;33m\u001b[0m\u001b[1;33m\u001b[0m\u001b[0m\n\u001b[0m\u001b[0;32m     21\u001b[0m \u001b[1;32mfrom\u001b[0m \u001b[1;33m.\u001b[0m \u001b[1;32mimport\u001b[0m \u001b[0mtuners\u001b[0m\u001b[1;33m\u001b[0m\u001b[1;33m\u001b[0m\u001b[0m\n\u001b[0;32m     22\u001b[0m \u001b[1;32mfrom\u001b[0m \u001b[1;33m.\u001b[0m\u001b[0mengine\u001b[0m\u001b[1;33m.\u001b[0m\u001b[0mhypermodel\u001b[0m \u001b[1;32mimport\u001b[0m \u001b[0mHyperModel\u001b[0m\u001b[1;33m\u001b[0m\u001b[1;33m\u001b[0m\u001b[0m\n",
      "\u001b[1;32m~\\AppData\\Roaming\\Python\\Python38\\site-packages\\keras_tuner\\oracles\\__init__.py\u001b[0m in \u001b[0;36m<module>\u001b[1;34m\u001b[0m\n\u001b[0;32m     15\u001b[0m \u001b[1;31m# Keep the name of `BayesianOptimization`, `Hyperband` and `RandomSearch`\u001b[0m\u001b[1;33m\u001b[0m\u001b[1;33m\u001b[0m\u001b[1;33m\u001b[0m\u001b[0m\n\u001b[0;32m     16\u001b[0m \u001b[1;31m# for backward compatibility for 1.0.2 or earlier.\u001b[0m\u001b[1;33m\u001b[0m\u001b[1;33m\u001b[0m\u001b[1;33m\u001b[0m\u001b[0m\n\u001b[1;32m---> 17\u001b[1;33m \u001b[1;32mfrom\u001b[0m \u001b[1;33m.\u001b[0m\u001b[1;33m.\u001b[0m\u001b[0mtuners\u001b[0m\u001b[1;33m.\u001b[0m\u001b[0mbayesian\u001b[0m \u001b[1;32mimport\u001b[0m \u001b[0mBayesianOptimizationOracle\u001b[0m\u001b[1;33m\u001b[0m\u001b[1;33m\u001b[0m\u001b[0m\n\u001b[0m\u001b[0;32m     18\u001b[0m \u001b[1;32mfrom\u001b[0m \u001b[1;33m.\u001b[0m\u001b[1;33m.\u001b[0m\u001b[0mtuners\u001b[0m\u001b[1;33m.\u001b[0m\u001b[0mbayesian\u001b[0m \u001b[1;32mimport\u001b[0m \u001b[0mBayesianOptimizationOracle\u001b[0m \u001b[1;32mas\u001b[0m \u001b[0mBayesianOptimization\u001b[0m\u001b[1;33m\u001b[0m\u001b[1;33m\u001b[0m\u001b[0m\n\u001b[0;32m     19\u001b[0m \u001b[1;32mfrom\u001b[0m \u001b[1;33m.\u001b[0m\u001b[1;33m.\u001b[0m\u001b[0mtuners\u001b[0m\u001b[1;33m.\u001b[0m\u001b[0mhyperband\u001b[0m \u001b[1;32mimport\u001b[0m \u001b[0mHyperbandOracle\u001b[0m\u001b[1;33m\u001b[0m\u001b[1;33m\u001b[0m\u001b[0m\n",
      "\u001b[1;32m~\\AppData\\Roaming\\Python\\Python38\\site-packages\\keras_tuner\\tuners\\__init__.py\u001b[0m in \u001b[0;36m<module>\u001b[1;34m\u001b[0m\n\u001b[0;32m     15\u001b[0m \u001b[1;32mfrom\u001b[0m \u001b[0m__future__\u001b[0m \u001b[1;32mimport\u001b[0m \u001b[0mabsolute_import\u001b[0m\u001b[1;33m\u001b[0m\u001b[1;33m\u001b[0m\u001b[0m\n\u001b[0;32m     16\u001b[0m \u001b[1;33m\u001b[0m\u001b[0m\n\u001b[1;32m---> 17\u001b[1;33m \u001b[1;32mfrom\u001b[0m \u001b[1;33m.\u001b[0m\u001b[0mbayesian\u001b[0m \u001b[1;32mimport\u001b[0m \u001b[0mBayesianOptimization\u001b[0m\u001b[1;33m\u001b[0m\u001b[1;33m\u001b[0m\u001b[0m\n\u001b[0m\u001b[0;32m     18\u001b[0m \u001b[1;32mfrom\u001b[0m \u001b[1;33m.\u001b[0m\u001b[0mhyperband\u001b[0m \u001b[1;32mimport\u001b[0m \u001b[0mHyperband\u001b[0m\u001b[1;33m\u001b[0m\u001b[1;33m\u001b[0m\u001b[0m\n\u001b[0;32m     19\u001b[0m \u001b[1;32mfrom\u001b[0m \u001b[1;33m.\u001b[0m\u001b[0mrandomsearch\u001b[0m \u001b[1;32mimport\u001b[0m \u001b[0mRandomSearch\u001b[0m\u001b[1;33m\u001b[0m\u001b[1;33m\u001b[0m\u001b[0m\n",
      "\u001b[1;32m~\\AppData\\Roaming\\Python\\Python38\\site-packages\\keras_tuner\\tuners\\bayesian.py\u001b[0m in \u001b[0;36m<module>\u001b[1;34m\u001b[0m\n\u001b[0;32m      6\u001b[0m \u001b[1;32mfrom\u001b[0m \u001b[0mscipy\u001b[0m \u001b[1;32mimport\u001b[0m \u001b[0moptimize\u001b[0m \u001b[1;32mas\u001b[0m \u001b[0mscipy_optimize\u001b[0m\u001b[1;33m\u001b[0m\u001b[1;33m\u001b[0m\u001b[0m\n\u001b[0;32m      7\u001b[0m \u001b[1;33m\u001b[0m\u001b[0m\n\u001b[1;32m----> 8\u001b[1;33m \u001b[1;32mfrom\u001b[0m \u001b[1;33m.\u001b[0m\u001b[1;33m.\u001b[0m\u001b[0mengine\u001b[0m \u001b[1;32mimport\u001b[0m \u001b[0mhyperparameters\u001b[0m \u001b[1;32mas\u001b[0m \u001b[0mhp_module\u001b[0m\u001b[1;33m\u001b[0m\u001b[1;33m\u001b[0m\u001b[0m\n\u001b[0m\u001b[0;32m      9\u001b[0m \u001b[1;32mfrom\u001b[0m \u001b[1;33m.\u001b[0m\u001b[1;33m.\u001b[0m\u001b[0mengine\u001b[0m \u001b[1;32mimport\u001b[0m \u001b[0mmulti_execution_tuner\u001b[0m\u001b[1;33m\u001b[0m\u001b[1;33m\u001b[0m\u001b[0m\n\u001b[0;32m     10\u001b[0m \u001b[1;32mfrom\u001b[0m \u001b[1;33m.\u001b[0m\u001b[1;33m.\u001b[0m\u001b[0mengine\u001b[0m \u001b[1;32mimport\u001b[0m \u001b[0moracle\u001b[0m \u001b[1;32mas\u001b[0m \u001b[0moracle_module\u001b[0m\u001b[1;33m\u001b[0m\u001b[1;33m\u001b[0m\u001b[0m\n",
      "\u001b[1;32m~\\AppData\\Roaming\\Python\\Python38\\site-packages\\keras_tuner\\engine\\hyperparameters.py\u001b[0m in \u001b[0;36m<module>\u001b[1;34m\u001b[0m\n\u001b[0;32m     27\u001b[0m \u001b[1;32mfrom\u001b[0m \u001b[0mtensorflow\u001b[0m \u001b[1;32mimport\u001b[0m \u001b[0mkeras\u001b[0m\u001b[1;33m\u001b[0m\u001b[1;33m\u001b[0m\u001b[0m\n\u001b[0;32m     28\u001b[0m \u001b[1;33m\u001b[0m\u001b[0m\n\u001b[1;32m---> 29\u001b[1;33m \u001b[1;32mfrom\u001b[0m \u001b[1;33m.\u001b[0m\u001b[1;33m.\u001b[0m\u001b[0mprotos\u001b[0m \u001b[1;32mimport\u001b[0m \u001b[0mkeras_tuner_pb2\u001b[0m\u001b[1;33m\u001b[0m\u001b[1;33m\u001b[0m\u001b[0m\n\u001b[0m\u001b[0;32m     30\u001b[0m \u001b[1;32mfrom\u001b[0m \u001b[1;33m.\u001b[0m \u001b[1;32mimport\u001b[0m \u001b[0mconditions\u001b[0m \u001b[1;32mas\u001b[0m \u001b[0mconditions_mod\u001b[0m\u001b[1;33m\u001b[0m\u001b[1;33m\u001b[0m\u001b[0m\n\u001b[0;32m     31\u001b[0m \u001b[1;33m\u001b[0m\u001b[0m\n",
      "\u001b[1;32m~\\AppData\\Roaming\\Python\\Python38\\site-packages\\keras_tuner\\protos\\keras_tuner_pb2.py\u001b[0m in \u001b[0;36m<module>\u001b[1;34m\u001b[0m\n\u001b[0;32m     20\u001b[0m   \u001b[0msyntax\u001b[0m\u001b[1;33m=\u001b[0m\u001b[1;34m'proto3'\u001b[0m\u001b[1;33m,\u001b[0m\u001b[1;33m\u001b[0m\u001b[1;33m\u001b[0m\u001b[0m\n\u001b[0;32m     21\u001b[0m   \u001b[0mserialized_options\u001b[0m\u001b[1;33m=\u001b[0m\u001b[1;32mNone\u001b[0m\u001b[1;33m,\u001b[0m\u001b[1;33m\u001b[0m\u001b[1;33m\u001b[0m\u001b[0m\n\u001b[1;32m---> 22\u001b[1;33m   \u001b[0mcreate_key\u001b[0m\u001b[1;33m=\u001b[0m\u001b[0m_descriptor\u001b[0m\u001b[1;33m.\u001b[0m\u001b[0m_internal_create_key\u001b[0m\u001b[1;33m,\u001b[0m\u001b[1;33m\u001b[0m\u001b[1;33m\u001b[0m\u001b[0m\n\u001b[0m\u001b[0;32m     23\u001b[0m   \u001b[0mserialized_pb\u001b[0m\u001b[1;33m=\u001b[0m\u001b[1;34mb'\\n$keras_tuner/protos/keras_tuner.proto\\x12\\x0bkeras_tuner\\\"l\\n\\x05Value\\x12\\x13\\n\\tint_value\\x18\\x01 \\x01(\\x12H\\x00\\x12\\x15\\n\\x0b\\x66loat_value\\x18\\x02 \\x01(\\x01H\\x00\\x12\\x16\\n\\x0cstring_value\\x18\\x03 \\x01(\\tH\\x00\\x12\\x17\\n\\rboolean_value\\x18\\x04 \\x01(\\x08H\\x00\\x42\\x06\\n\\x04kind\\\"\\xaf\\x01\\n\\x05\\x46loat\\x12\\x0c\\n\\x04name\\x18\\x01 \\x01(\\t\\x12\\x11\\n\\tmin_value\\x18\\x02 \\x01(\\x01\\x12\\x11\\n\\tmax_value\\x18\\x03 \\x01(\\x01\\x12\\x0c\\n\\x04step\\x18\\x04 \\x01(\\x01\\x12\\'\\n\\x08sampling\\x18\\x05 \\x01(\\x0e\\x32\\x15.keras_tuner.Sampling\\x12\\x0f\\n\\x07\\x64\\x65\\x66\\x61ult\\x18\\x06 \\x01(\\x01\\x12*\\n\\nconditions\\x18\\x07 \\x03(\\x0b\\x32\\x16.keras_tuner.Condition\\\"\\xad\\x01\\n\\x03Int\\x12\\x0c\\n\\x04name\\x18\\x01 \\x01(\\t\\x12\\x11\\n\\tmin_value\\x18\\x02 \\x01(\\x12\\x12\\x11\\n\\tmax_value\\x18\\x03 \\x01(\\x12\\x12\\x0c\\n\\x04step\\x18\\x04 \\x01(\\x12\\x12\\'\\n\\x08sampling\\x18\\x05 \\x01(\\x0e\\x32\\x15.keras_tuner.Sampling\\x12\\x0f\\n\\x07\\x64\\x65\\x66\\x61ult\\x18\\x06 \\x01(\\x12\\x12*\\n\\nconditions\\x18\\x07 \\x03(\\x0b\\x32\\x16.keras_tuner.Condition\\\"\\x9c\\x01\\n\\x06\\x43hoice\\x12\\x0c\\n\\x04name\\x18\\x01 \\x01(\\t\\x12\\\"\\n\\x06values\\x18\\x02 \\x03(\\x0b\\x32\\x12.keras_tuner.Value\\x12#\\n\\x07\\x64\\x65\\x66\\x61ult\\x18\\x03 \\x01(\\x0b\\x32\\x12.keras_tuner.Value\\x12\\x0f\\n\\x07ordered\\x18\\x04 \\x01(\\x08\\x12*\\n\\nconditions\\x18\\x05 \\x03(\\x0b\\x32\\x16.keras_tuner.Condition\\\"T\\n\\x07\\x42oolean\\x12\\x0c\\n\\x04name\\x18\\x01 \\x01(\\t\\x12\\x0f\\n\\x07\\x64\\x65\\x66\\x61ult\\x18\\x02 \\x01(\\x08\\x12*\\n\\nconditions\\x18\\x03 \\x03(\\x0b\\x32\\x16.keras_tuner.Condition\\\"d\\n\\x05\\x46ixed\\x12\\x0c\\n\\x04name\\x18\\x01 \\x01(\\t\\x12!\\n\\x05value\\x18\\x02 \\x01(\\x0b\\x32\\x12.keras_tuner.Value\\x12*\\n\\nconditions\\x18\\x03 \\x03(\\x0b\\x32\\x16.keras_tuner.Condition\\\"\\xe1\\x03\\n\\x0fHyperParameters\\x12\\x31\\n\\x05space\\x18\\x01 \\x01(\\x0b\\x32\\\".keras_tuner.HyperParameters.Space\\x12\\x33\\n\\x06values\\x18\\x02 \\x01(\\x0b\\x32#.keras_tuner.HyperParameters.Values\\x1a\\xd6\\x01\\n\\x05Space\\x12\\'\\n\\x0b\\x66loat_space\\x18\\x01 \\x03(\\x0b\\x32\\x12.keras_tuner.Float\\x12#\\n\\tint_space\\x18\\x02 \\x03(\\x0b\\x32\\x10.keras_tuner.Int\\x12)\\n\\x0c\\x63hoice_space\\x18\\x03 \\x03(\\x0b\\x32\\x13.keras_tuner.Choice\\x12+\\n\\rboolean_space\\x18\\x04 \\x03(\\x0b\\x32\\x14.keras_tuner.Boolean\\x12\\'\\n\\x0b\\x66ixed_space\\x18\\x05 \\x03(\\x0b\\x32\\x12.keras_tuner.Fixed\\x1a\\x8c\\x01\\n\\x06Values\\x12?\\n\\x06values\\x18\\x01 \\x03(\\x0b\\x32/.keras_tuner.HyperParameters.Values.ValuesEntry\\x1a\\x41\\n\\x0bValuesEntry\\x12\\x0b\\n\\x03key\\x18\\x01 \\x01(\\t\\x12!\\n\\x05value\\x18\\x02 \\x01(\\x0b\\x32\\x12.keras_tuner.Value:\\x02\\x38\\x01\\\"0\\n\\x11MetricObservation\\x12\\r\\n\\x05value\\x18\\x01 \\x03(\\x02\\x12\\x0c\\n\\x04step\\x18\\x02 \\x01(\\x03\\\"W\\n\\rMetricHistory\\x12\\x34\\n\\x0cobservations\\x18\\x01 \\x03(\\x0b\\x32\\x1e.keras_tuner.MetricObservation\\x12\\x10\\n\\x08maximize\\x18\\x02 \\x01(\\x08\\\"\\x97\\x01\\n\\x0eMetricsTracker\\x12\\x39\\n\\x07metrics\\x18\\x01 \\x03(\\x0b\\x32(.keras_tuner.MetricsTracker.MetricsEntry\\x1aJ\\n\\x0cMetricsEntry\\x12\\x0b\\n\\x03key\\x18\\x01 \\x01(\\t\\x12)\\n\\x05value\\x18\\x02 \\x01(\\x0b\\x32\\x1a.keras_tuner.MetricHistory:\\x02\\x38\\x01\\\"\\xf7\\x01\\n\\x05Trial\\x12\\x35\\n\\x0fhyperparameters\\x18\\x01 \\x01(\\x0b\\x32\\x1c.keras_tuner.HyperParameters\\x12\\x10\\n\\x08trial_id\\x18\\x02 \\x01(\\t\\x12(\\n\\x06status\\x18\\x03 \\x01(\\x0e\\x32\\x18.keras_tuner.TrialStatus\\x12,\\n\\x07metrics\\x18\\x04 \\x01(\\x0b\\x32\\x1b.keras_tuner.MetricsTracker\\x12\\'\\n\\x05score\\x18\\x05 \\x01(\\x0b\\x32\\x18.keras_tuner.Trial.Score\\x1a$\\n\\x05Score\\x12\\r\\n\\x05value\\x18\\x01 \\x01(\\x02\\x12\\x0c\\n\\x04step\\x18\\x02 \\x01(\\x03\\\"\\x80\\x01\\n\\tCondition\\x12/\\n\\x06parent\\x18\\x01 \\x01(\\x0b\\x32\\x1d.keras_tuner.Condition.ParentH\\x00\\x1a:\\n\\x06Parent\\x12\\x0c\\n\\x04name\\x18\\x01 \\x01(\\t\\x12\\\"\\n\\x06values\\x18\\x02 \\x03(\\x0b\\x32\\x12.keras_tuner.ValueB\\x06\\n\\x04kind*:\\n\\x08Sampling\\x12\\x08\\n\\x04NONE\\x10\\x00\\x12\\n\\n\\x06LINEAR\\x10\\x01\\x12\\x07\\n\\x03LOG\\x10\\x02\\x12\\x0f\\n\\x0bREVERSE_LOG\\x10\\x03*Z\\n\\x0bTrialStatus\\x12\\x0b\\n\\x07UNKNOWN\\x10\\x00\\x12\\x0b\\n\\x07RUNNING\\x10\\x01\\x12\\x08\\n\\x04IDLE\\x10\\x02\\x12\\x0b\\n\\x07INVALID\\x10\\x03\\x12\\x0b\\n\\x07STOPPED\\x10\\x04\\x12\\r\\n\\tCOMPLETED\\x10\\x05\\x62\\x06proto3'\u001b[0m\u001b[1;33m\u001b[0m\u001b[1;33m\u001b[0m\u001b[0m\n\u001b[0;32m     24\u001b[0m )\n",
      "\u001b[1;31mAttributeError\u001b[0m: module 'google.protobuf.descriptor' has no attribute '_internal_create_key'"
     ]
    }
   ],
   "source": [
    "import autokeras as ak"
   ]
  },
  {
   "cell_type": "code",
   "execution_count": null,
   "metadata": {},
   "outputs": [],
   "source": [
    "reg = ak.ImageRegressor(project_name = \"image_regressor_training\")\n",
    "reg.fit(X_train, y_train)\n",
    "model = reg.export_model()\n",
    "model.save(\"image_regressor\", save_format = \"tf\")"
   ]
  },
  {
   "cell_type": "code",
   "execution_count": 28,
   "metadata": {},
   "outputs": [],
   "source": [
    "from tensorflow.keras.models import load_model\n",
    "model = load_model(\"image_regressor\", custom_objects = ak.CUSTOM_OBJECTS)"
   ]
  },
  {
   "cell_type": "markdown",
   "metadata": {},
   "source": [
    "Below you can find the trained architecture with its number of layers used, the number of neurons in each layer, optimizer, learning rate, activation functions, etc."
   ]
  },
  {
   "cell_type": "code",
   "execution_count": 29,
   "metadata": {},
   "outputs": [
    {
     "name": "stdout",
     "output_type": "stream",
     "text": [
      "Model: \"model\"\n",
      "_________________________________________________________________\n",
      "Layer (type)                 Output Shape              Param #   \n",
      "=================================================================\n",
      "input_1 (InputLayer)         [(None, 35, 35)]          0         \n",
      "_________________________________________________________________\n",
      "cast_to_float32 (CastToFloat (None, 35, 35)            0         \n",
      "_________________________________________________________________\n",
      "expand_last_dim (ExpandLastD (None, 35, 35, 1)         0         \n",
      "_________________________________________________________________\n",
      "normalization (Normalization (None, 35, 35, 1)         3         \n",
      "_________________________________________________________________\n",
      "random_flip (RandomFlip)     (None, 35, 35, 1)         0         \n",
      "_________________________________________________________________\n",
      "conv2d (Conv2D)              (None, 31, 31, 16)        416       \n",
      "_________________________________________________________________\n",
      "conv2d_1 (Conv2D)            (None, 27, 27, 256)       102656    \n",
      "_________________________________________________________________\n",
      "max_pooling2d (MaxPooling2D) (None, 6, 6, 256)         0         \n",
      "_________________________________________________________________\n",
      "conv2d_2 (Conv2D)            (None, 6, 6, 32)          204832    \n",
      "_________________________________________________________________\n",
      "conv2d_3 (Conv2D)            (None, 6, 6, 128)         102528    \n",
      "_________________________________________________________________\n",
      "max_pooling2d_1 (MaxPooling2 (None, 2, 2, 128)         0         \n",
      "_________________________________________________________________\n",
      "conv2d_4 (Conv2D)            (None, 2, 2, 512)         1638912   \n",
      "_________________________________________________________________\n",
      "conv2d_5 (Conv2D)            (None, 2, 2, 16)          204816    \n",
      "_________________________________________________________________\n",
      "max_pooling2d_2 (MaxPooling2 (None, 1, 1, 16)          0         \n",
      "_________________________________________________________________\n",
      "flatten (Flatten)            (None, 16)                0         \n",
      "_________________________________________________________________\n",
      "regression_head_1 (Dense)    (None, 1)                 17        \n",
      "=================================================================\n",
      "Total params: 2,254,180\n",
      "Trainable params: 2,254,177\n",
      "Non-trainable params: 3\n",
      "_________________________________________________________________\n"
     ]
    }
   ],
   "source": [
    "model.summary()"
   ]
  },
  {
   "cell_type": "markdown",
   "metadata": {},
   "source": [
    "Let's see how it performs on our test set. Since we trained a regressor we need to round the results to the nearest integer to get the classification."
   ]
  },
  {
   "cell_type": "code",
   "execution_count": 5,
   "metadata": {},
   "outputs": [
    {
     "ename": "NameError",
     "evalue": "name 'model' is not defined",
     "output_type": "error",
     "traceback": [
      "\u001b[1;31m---------------------------------------------------------------------------\u001b[0m",
      "\u001b[1;31mNameError\u001b[0m                                 Traceback (most recent call last)",
      "\u001b[1;32m<ipython-input-5-9559417f9396>\u001b[0m in \u001b[0;36m<module>\u001b[1;34m\u001b[0m\n\u001b[1;32m----> 1\u001b[1;33m \u001b[0my_predicted\u001b[0m \u001b[1;33m=\u001b[0m \u001b[0mmodel\u001b[0m\u001b[1;33m.\u001b[0m\u001b[0mpredict\u001b[0m\u001b[1;33m(\u001b[0m\u001b[0mX_test\u001b[0m\u001b[1;33m)\u001b[0m\u001b[1;33m.\u001b[0m\u001b[0mflatten\u001b[0m\u001b[1;33m(\u001b[0m\u001b[1;33m)\u001b[0m\u001b[1;33m\u001b[0m\u001b[1;33m\u001b[0m\u001b[0m\n\u001b[0m\u001b[0;32m      2\u001b[0m \u001b[0maccuracy\u001b[0m \u001b[1;33m=\u001b[0m \u001b[0mnp\u001b[0m\u001b[1;33m.\u001b[0m\u001b[0msum\u001b[0m\u001b[1;33m(\u001b[0m\u001b[0my_test\u001b[0m \u001b[1;33m==\u001b[0m \u001b[0mnp\u001b[0m\u001b[1;33m.\u001b[0m\u001b[0mround\u001b[0m\u001b[1;33m(\u001b[0m\u001b[0my_predicted\u001b[0m\u001b[1;33m)\u001b[0m\u001b[1;33m)\u001b[0m \u001b[1;33m/\u001b[0m \u001b[0my_test\u001b[0m\u001b[1;33m.\u001b[0m\u001b[0mshape\u001b[0m\u001b[1;33m[\u001b[0m\u001b[1;36m0\u001b[0m\u001b[1;33m]\u001b[0m\u001b[1;33m\u001b[0m\u001b[1;33m\u001b[0m\u001b[0m\n\u001b[0;32m      3\u001b[0m \u001b[0mprint\u001b[0m\u001b[1;33m(\u001b[0m\u001b[1;34m\"Accuracy:\"\u001b[0m\u001b[1;33m,\u001b[0m \u001b[0maccuracy\u001b[0m\u001b[1;33m)\u001b[0m\u001b[1;33m\u001b[0m\u001b[1;33m\u001b[0m\u001b[0m\n",
      "\u001b[1;31mNameError\u001b[0m: name 'model' is not defined"
     ]
    }
   ],
   "source": [
    "y_predicted = model.predict(X_test).flatten()\n",
    "accuracy = np.sum(y_test == np.round(y_predicted)) / y_test.shape[0]\n",
    "print(\"Accuracy:\", accuracy)"
   ]
  },
  {
   "cell_type": "markdown",
   "metadata": {},
   "source": [
    "### Save Prediction\n",
    "Since it already has perfect accuracy the only thing left to do is save the prediction on the given test data."
   ]
  },
  {
   "cell_type": "code",
   "execution_count": 32,
   "metadata": {},
   "outputs": [],
   "source": [
    "data = np.load(\"data_test_Facial.npy\", allow_pickle = True)\n",
    "prediction = np.round(model.predict(data).flatten())\n",
    "np.savetxt(\"ToTheMooners_prediction\", prediction, delimiter = \",\")"
   ]
  }
 ],
 "metadata": {
  "kernelspec": {
   "display_name": "Python 3",
   "language": "python",
   "name": "python3"
  },
  "language_info": {
   "codemirror_mode": {
    "name": "ipython",
    "version": 3
   },
   "file_extension": ".py",
   "mimetype": "text/x-python",
   "name": "python",
   "nbconvert_exporter": "python",
   "pygments_lexer": "ipython3",
   "version": "3.8.5"
  }
 },
 "nbformat": 4,
 "nbformat_minor": 4
}
