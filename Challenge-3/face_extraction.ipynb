{
 "cells": [
  {
   "cell_type": "code",
   "execution_count": 1,
   "id": "5bbddb4d-cd8e-43eb-8c1a-65f969125525",
   "metadata": {},
   "outputs": [
    {
     "data": {
      "application/vnd.jupyter.widget-view+json": {
       "model_id": "4ab6cbe98d8046c0be37b33df281d089",
       "version_major": 2,
       "version_minor": 0
      },
      "text/plain": [
       "  0%|          | 0/7213 [00:00<?, ?it/s]"
      ]
     },
     "metadata": {},
     "output_type": "display_data"
    }
   ],
   "source": [
    "from facenet_pytorch import MTCNN\n",
    "import cv2\n",
    "from tqdm.notebook import tqdm\n",
    "\n",
    "# create face detector\n",
    "mtcnn = MTCNN(margin = 40, select_largest = False, post_process = False)\n",
    "\n",
    "# load video\n",
    "video_capture = cv2.VideoCapture(\"face_extraction\\\\recording.mp4\")\n",
    "video_length = int(video_capture.get(cv2.CAP_PROP_FRAME_COUNT))\n",
    "\n",
    "# loop through video\n",
    "for frame_number in tqdm(range(video_length)):\n",
    "    \n",
    "    # load frame\n",
    "    success, frame = video_capture.read()\n",
    "    if not success:\n",
    "        continue\n",
    "        \n",
    "    # convert to RGB\n",
    "    frame = cv2.cvtColor(frame, cv2.COLOR_BGR2RGB)\n",
    "    \n",
    "    # save face\n",
    "    mtcnn(frame, save_path = f\"face_extraction\\\\faces\\\\image_{frame_number:#05d}.png\")"
   ]
  },
  {
   "cell_type": "code",
   "execution_count": null,
   "id": "5866f81e",
   "metadata": {},
   "outputs": [],
   "source": []
  }
 ],
 "metadata": {
  "kernelspec": {
   "display_name": "Python 3",
   "language": "python",
   "name": "python3"
  },
  "language_info": {
   "codemirror_mode": {
    "name": "ipython",
    "version": 3
   },
   "file_extension": ".py",
   "mimetype": "text/x-python",
   "name": "python",
   "nbconvert_exporter": "python",
   "pygments_lexer": "ipython3",
   "version": "3.8.8"
  }
 },
 "nbformat": 4,
 "nbformat_minor": 5
}
